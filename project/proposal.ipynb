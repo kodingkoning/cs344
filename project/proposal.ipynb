{
 "cells": [
  {
   "cell_type": "markdown",
   "metadata": {},
   "source": [
    "## CS 344 Honors Project - Proposal Draft #2\n",
    "###### Elizabeth Koning\n",
    "###### April 12, 2019\n",
    "\n",
    "### Application Domain\n",
    "\n",
    "I plan to focus on a biology question regarding deer population and what divides different groups of deer. Professor Miller of the biology department has been working on this topic already through his dissertation work, so my exploration will build off of his ongoing work. When physical barriers (such as highways or rivers) are present in an environment, they may cause division into two separate populations. The division prevents mixing and interbreeding. This leads to genetic differences between the populations, which can be examined through sampling.\n",
    "\n",
    "Until recently, the system for identifying the physical barriers has been based on seeing which barriers coorelate with the differences in the population and suggesting that that barrier may be the dividing line. Professor Miller is examining the barriers more statistically and systematically.\n",
    "\n",
    "My work will include evaluating the effectiveness of genetic algorithms for this application and comparing it to other AI algorithms, including Simulated Annealing and Convolutional Neural Networks.\n",
    "\n",
    "### Relevant Theory\n",
    "\n",
    "Professor Miller has been using genetic algorithms to approach this problem, so I will be looking more into how the genetic algorithms work and how they can best be used for this case.\n",
    "\n",
    "My project will involve examining how genetic algorithms work and how they can best be applied the the deer population question. I plan to start by learning about genetic algorithms in general, then look at the specifics of what he has done with them, and then move into how to improve the application.\n",
    "\n",
    "After meeting again with Professor Miller, I can give a more thorough description of what the project will involve, but it is essentially using data about deer populations with genetic algorithms.\n",
    "\n",
    "### Reasons for Theoretical Foundation Selection\n",
    "\n",
    "Professor Miller and other biologists have been working with Genetic Algorithms on these sorts of problems. Peterman, from Ohio State, has published ResistanceGA, which is an R package specficially designed for this purpose.\n",
    "\n",
    "The benefit of using genetic algorithms in this application is because of its connections with biology. Genetic algorithms are easy for biologists to understand because they are already familiar with both the principles and the language.\n",
    "\n",
    "However, genetic algorithms are known to be slow. If we can achieve similar results with a faster algorithm, that would be helpful.\n",
    "\n",
    "Simulated Annealing may be a good fit because of its similarities with genetic algorithms but better speed.\n",
    "\n",
    "Convolutional Neural Networks may be a good fit because the data is a set of images, which seems to connect well with CNNs.\n",
    "\n",
    "Another aspect to speed it up will be to use parellization.\n",
    "\n",
    "The way that the AI tools are being used is focused on describing the data present, rather than making predictions about how it generalizes to a broader population. It differs from the algorithms that we are looking at in CS 344, which may present a challenge.\n",
    "\n",
    "### Broader Implications\n",
    "\n",
    "This investigation should have implications for Professor Miller's research. Through this work, I intend to either conclude that GA is the best fit for his question or offer an alternative that gives comprable results in better time.\n",
    "\n",
    "### Next Steps\n",
    "\n",
    "The first step I will be working on will be creating simulated data. The actual data that Professor Miller works with takes 3-5 days to run with the GA. With the amount of time I have to work on the project, that will be impractical. If the simulated data will show the behavior of the algorithms but in a couple of hours instead, then I can make conclusions based on those results, or test the promising ones with the actual data.\n"
   ]
  }
 ],
 "metadata": {
  "anaconda-cloud": {},
  "kernelspec": {
   "display_name": "Python [conda root]",
   "language": "python",
   "name": "conda-root-py"
  },
  "language_info": {
   "codemirror_mode": {
    "name": "ipython",
    "version": 3
   },
   "file_extension": ".py",
   "mimetype": "text/x-python",
   "name": "python",
   "nbconvert_exporter": "python",
   "pygments_lexer": "ipython3",
   "version": "3.5.2"
  }
 },
 "nbformat": 4,
 "nbformat_minor": 1
}
