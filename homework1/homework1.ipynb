{
 "cells": [
  {
   "cell_type": "code",
   "execution_count": 1,
   "metadata": {
    "collapsed": true
   },
   "outputs": [
    {
     "name": "stdout",
     "output_type": "stream",
     "text": [
      "hello\n"
     ]
    }
   ],
   "source": [
    "print(\"hello\")"
   ]
  },
  {
   "cell_type": "markdown",
   "metadata": {},
   "source": [
    "# Homework 1"
   ]
  },
  {
   "cell_type": "markdown",
   "metadata": {},
   "source": [
    "## Problem 1\n",
    "\n",
    "Using introspection to inform AI in modeling human cognitive processes is an obvious first stage of modeling human thought. However, the effectiveness of this strategy depends both on the goal of the AI. If the goal is to create a computer that thinks in a similar manner to a human (that is, approaching problems in the same way), then introspection probably makes sense. In this case, it isn't so much the results that matter, as the way the program gets there. If the goal is a program that ouptuts similar results to a human's conclusion, then I would say that introspection will probably not be the best way to do that. People's minds are complex, even at the level at which we can examine our own minds. The way we think is not the most efficient because of this complexity. Because of this, even if we want human-style conclusions, I would say that introspection and modeling the computations after human thought would not be the best way to get there.\n",
    "\n",
    "The goal could also be finding accurate results regardless of how a person would approach the problem or if they would come up with an accurate answer. This is a different question than what was asked, but I would say it is a more important question. If the computers can do things that we can't, then they contribute much more value.\n",
    "\n",
    "Revisiting the issue of modeling patterns of human thought processes, introspection would solve the issue at one level. Neural networks would solve the issue on another level. Introspection, though, would approach the problem in the same way as a person. It would value the same things, and it would start with the same focuses. If we want the AI program to focus on the same kinds of patterns and connections as a person would, then introspection is the only way to do it. Anything else either surpasses this level or is too basic for us to be able to model the whole human mind and make it to this level. "
   ]
  },
  {
   "cell_type": "markdown",
   "metadata": {},
   "source": [
    "## Problem 2"
   ]
  },
  {
   "cell_type": "code",
   "execution_count": null,
   "metadata": {},
   "outputs": [],
   "source": [
    "import string, random\n",
    "import numpy as np\n",
    "from search import Problem, hill_climbing, simulated_annealing\n",
    "\n",
    "class TSP(Problem):\n",
    "    def __init__(self, initial, distances, num_cities):\n",
    "        self.initial = initial\n",
    "        self.distances = distances\n",
    "        self.num_cities = num_cities\n",
    "\n",
    "    def actions(self, state):\n",
    "        # lists all pairs of cities that could be flipped in the order\n",
    "        starts = np.zeros(0, dtype=np.int8)\n",
    "        ends   = np.zeros(0, dtype=np.int8)\n",
    "\n",
    "        for city in range(self.num_cities):\n",
    "            # create list of this city as the first city to flip\n",
    "            starts = np.append(starts, np.full(self.num_cities-city-1, city, dtype=np.int8))\n",
    "            # create list of all the later cities as second cities to switch (all earlier cities will have the current city as the second city of the flip)\n",
    "            ends   = np.append(ends, np.arange(city+1, self.num_cities, dtype=np.int8))\n",
    "\n",
    "        actions = np.append(starts, ends)\n",
    "        actions = actions.reshape(-1, 2, order='F')\n",
    "        return actions\n",
    "\n",
    "    def result(self, state, action):\n",
    "        # return the state that results from executing the given action in the current state\n",
    "        new_state = np.copy(state)\n",
    "        city1 = state[action[0]]\n",
    "        city2 = state[action[1]]\n",
    "        new_state[action[0]] = city2\n",
    "        new_state[action[1]] = city1\n",
    "        return new_state\n",
    "\n",
    "    def value(self, state):\n",
    "        value = 0\n",
    "        for i in range(len(state)):\n",
    "            value += self.distances[state[i]][state[(i+1)%self.num_cities]]\n",
    "        return -value"
   ]
  },
  {
   "cell_type": "markdown",
   "metadata": {},
   "source": [
    "### State and action representations\n",
    "For the local search, the TSP extends the Problem from csp.py and implements states and actions.\n",
    "The states, as in the n-queens problem, are a complete solution. In this case, we start with a list of the cities. The cities are numbered, so they are in that order to start.\n",
    "The order of the cities in the list represents the state. The last city loops around and leads back to the first city. This first city is only once in the list because the value() considers that it needs to loop around to the beginning again.\n",
    "The actions are represented as pairs of cities. Any two cities can be swapped in the travel order. Any of these actions keep the state as a complete solution, but it may make the value larger or smaller.\n",
    "\n",
    "### TSP with any number of cities\n",
    "Below, a system with any number of cities can be created by changing the num_cities variable. From there, it randomly calculates distances between all the cities.\n",
    "The salesman can travel from any city to any other city in one step.\n",
    "\n",
    "### Hill-climbing vs Simulated Annealing\n",
    "The hill-climbing algorithm works consistently better and by a significant amount, regardless of the size of the system. (As long as the number of cities is high enough that both algorithms do not always get the ideal solution, as happens with num_cities < 5.)\n",
    "If the cities were geographically coherent, then this would make sense. Since they are not, this is slightly more surprising.\n",
    "I would have expected that simulated annealing would work better here. For this problem (since the cities are not geogrpahically cohert), there are times that it is beneficial to be willing to jump to a worse value in order to get out of a local optima and find the global optima."
   ]
  },
  {
   "cell_type": "code",
   "execution_count": null,
   "metadata": {},
   "outputs": [],
   "source": [
    "# set up city with random but symmetrical distances\n",
    "num_cities = 10\n",
    "min_dist = 1\n",
    "max_dist = 10\n",
    "initial = np.arange(num_cities)\n",
    "\n",
    "distances = np.zeros((num_cities, num_cities))\n",
    "for i in range(num_cities):\n",
    "    for j in range(num_cities-i):\n",
    "        row = i\n",
    "        col = num_cities-j-1\n",
    "        if row == (col):\n",
    "            distances[row][col] = 0\n",
    "        else:\n",
    "            distances[row][col] = random.randint(min_dist, max_dist)\n",
    "            distances[col][row] = distances[row][col]\n",
    "\n",
    "print(\"Distances:\")\n",
    "print(distances)\n",
    "\n",
    "p = TSP(initial, distances, num_cities)\n",
    "print(\"Initial:\")\n",
    "print(initial)\n",
    "\n",
    "hill_solution = hill_climbing(p)\n",
    "print(\"\\nHill-climbing solution:\")\n",
    "print(hill_solution)\n",
    "print(\"Hill-climbing value = \" + str(p.value(hill_solution)))\n",
    "\n",
    "annealing_solution = simulated_annealing(p)\n",
    "print(\"\\nSimulated Annealing soltion:\")\n",
    "print(annealing_solution)\n",
    "print(\"Simulated Annealing value = \" + str(p.value(annealing_solution)))"
   ]
  },
  {
   "cell_type": "markdown",
   "metadata": {},
   "source": [
    "## Problem 3"
   ]
  },
  {
   "cell_type": "code",
   "execution_count": null,
   "metadata": {},
   "outputs": [],
   "source": [
    "from csp import min_conflicts, CSP, parse_neighbors\n",
    "\n",
    "\n",
    "# constants for keeping track of order of faculty, time and room in variable lists\n",
    "PROF = 0\n",
    "TIME = 1\n",
    "ROOM = 2\n",
    "\n",
    "courses = ['cs108', 'cs112', 'cs212', 'cs214', 'cs232', 'cs262', 'cs300']\n",
    "faculty = ['dschuurman', 'adams', 'vlinden', 'hplantin', 'pmb4']\n",
    "times = ['mwf900', 'mwf1030', 'mwf1130', 'mwf1230', 'mwf130']\n",
    "rooms = ['nh253', 'sb382']\n",
    "assignments = {'cs108': 'dschuurman', 'cs112': 'adams', 'cs212':'hplantin', 'cs214':'adams', 'cs232':'pmb4', 'cs262':'vlinden', 'cs300':'vlinden'}\n",
    "num_courses = len(courses)\n",
    "\n",
    "# neighbors: list all pairs of courses in the format needed for parse_neighbors\n",
    "# does not include pairing courses with themselves or pairs that are the same in the other order\n",
    "neighbors_string = \"\"\n",
    "for i in range(num_courses):\n",
    "    for j in range(num_courses-i-1):\n",
    "        course1 = courses[i]\n",
    "        course2 = courses[num_courses-j-1]\n",
    "        neighbors_string += course1 + \":\" + course2 + \";\"\n",
    "\n",
    "neighbors_string = neighbors_string[:-1] # get rid of the last semicolon\n",
    "neighbors = parse_neighbors(neighbors_string, variables=courses)\n",
    "\n",
    "# list all teaching combinations (of faculty, time, and room) that could be assigned to a course\n",
    "domains = {}\n",
    "for course in courses:\n",
    "    domains[course] = []\n",
    "    for prof in faculty:\n",
    "        for time in times:\n",
    "            for room in rooms:\n",
    "                domains[course].append( [prof, time, room] )\n",
    "\n",
    "\n",
    "# return whether the pair of courses do not conflict\n",
    "def scheduling_constraints(courseA, variableA, courseB, variableB):\n",
    "    \"\"\"\n",
    "    if the courses have the same room, same time, that fails the requirements\n",
    "    if the courses have the same prof, same time, that fails the requirements\n",
    "    if the courses have the wrong prof, that also fails the requirements\n",
    "    \"\"\"\n",
    "\n",
    "    # check if they are in the same room or with the same faculty member at the same time\n",
    "    if variableA[TIME] == variableB[TIME] and (variableA[ROOM] == variableB[ROOM] or variableA[PROF] == variableB[PROF]):\n",
    "        return False\n",
    "\n",
    "    # check that each course is with the correct professor\n",
    "    if variableA[PROF] != assignments[courseA] or variableB[PROF] != assignments[courseB]:\n",
    "        return False\n",
    "\n",
    "    # if it didn't fail yet, it's valid\n",
    "    return True\n",
    "\n",
    "\n",
    "result = min_conflicts(CSP(courses, domains, neighbors, scheduling_constraints))\n",
    "print(result)"
   ]
  },
  {
   "cell_type": "markdown",
   "metadata": {},
   "source": [
    "An explanation of the reasoning of this solution should start at the end. Because of the requirements, the min_conflicts function and the CSP class are necessary components of the solution. To decide how to go about filling the requirements of the CSP class constructor, I looked at the Sudoku, Queens, and Zebra problems. The Sudoku was a particularly helpful one. The Zebra problem wsa confusing because of documentation issues, and the queens problem sent me down the wrong track with building a subclass of CSP.\n",
    "Making the list of requirements was very straightforward from the problem description.\n",
    "From there, the problem got more complicated to approach. It make sense to have the courses be the variables because they are fixed and the other parameters need to be assigned to them.\n",
    "Once we were told that it worked to make all the combinations of faculty, time, and room domains, the rest of it could use strategies from the Zebra problem, but actually simpler.\n",
    "\n",
    "As you can see by running the code, this solution works and gives a schedule that fills the requirements."
   ]
  }
 ],
 "metadata": {
  "kernelspec": {
   "display_name": "Python 2",
   "language": "python",
   "name": "python2"
  },
  "language_info": {
   "codemirror_mode": {
    "name": "ipython",
    "version": 2.0
   },
   "file_extension": ".py",
   "mimetype": "text/x-python",
   "name": "python",
   "nbconvert_exporter": "python",
   "pygments_lexer": "ipython2",
   "version": "2.7.6"
  }
 },
 "nbformat": 4,
 "nbformat_minor": 0
}